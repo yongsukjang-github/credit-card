{
 "cells": [
  {
   "cell_type": "markdown",
   "metadata": {},
   "source": [
    "# **라이브러리 불러오기**"
   ]
  },
  {
   "cell_type": "code",
   "execution_count": 2,
   "metadata": {},
   "outputs": [],
   "source": [
    "import warnings\n",
    "warnings.filterwarnings('ignore')\n",
    "import numpy as np\n",
    "import pandas as pd   \n",
    "import matplotlib.pyplot as plt\n",
    "import seaborn as sns\n",
    "import itertools\n",
    "\n",
    "from sklearn.model_selection import train_test_split\n",
    "from sklearn.metrics import accuracy_score, confusion_matrix, log_loss\n",
    "\n",
    "from sklearn.linear_model import LogisticRegression\n",
    "from sklearn.tree import DecisionTreeClassifier\n",
    "\n",
    "from xgboost import XGBClassifier\n",
    "from lightgbm import LGBMClassifier\n",
    "# from catboost import CatBoostClassifier\n",
    "from sklearn import svm\n",
    "from sklearn.ensemble import RandomForestClassifier"
   ]
  },
  {
   "cell_type": "code",
   "execution_count": 192,
   "metadata": {},
   "outputs": [],
   "source": [
    "# import os\n",
    "# os.chdir('../open')"
   ]
  },
  {
   "cell_type": "code",
   "execution_count": 3,
   "metadata": {},
   "outputs": [],
   "source": [
    "train=pd.read_csv('train.csv')\n",
    "test=pd.read_csv('test.csv')\n",
    "submission=pd.read_csv('sample_submission.csv')"
   ]
  },
  {
   "cell_type": "markdown",
   "metadata": {},
   "source": [
    "# **[데이터 살펴보기]**"
   ]
  },
  {
   "cell_type": "code",
   "execution_count": 4,
   "metadata": {},
   "outputs": [
    {
     "data": {
      "text/html": "<div>\n<style scoped>\n    .dataframe tbody tr th:only-of-type {\n        vertical-align: middle;\n    }\n\n    .dataframe tbody tr th {\n        vertical-align: top;\n    }\n\n    .dataframe thead th {\n        text-align: right;\n    }\n</style>\n<table border=\"1\" class=\"dataframe\">\n  <thead>\n    <tr style=\"text-align: right;\">\n      <th></th>\n      <th>index</th>\n      <th>gender</th>\n      <th>car</th>\n      <th>reality</th>\n      <th>child_num</th>\n      <th>income_total</th>\n      <th>income_type</th>\n      <th>edu_type</th>\n      <th>family_type</th>\n      <th>house_type</th>\n      <th>DAYS_BIRTH</th>\n      <th>DAYS_EMPLOYED</th>\n      <th>FLAG_MOBIL</th>\n      <th>work_phone</th>\n      <th>phone</th>\n      <th>email</th>\n      <th>occyp_type</th>\n      <th>family_size</th>\n      <th>begin_month</th>\n      <th>credit</th>\n    </tr>\n  </thead>\n  <tbody>\n    <tr>\n      <th>0</th>\n      <td>0</td>\n      <td>F</td>\n      <td>N</td>\n      <td>N</td>\n      <td>0</td>\n      <td>202500.0</td>\n      <td>Commercial associate</td>\n      <td>Higher education</td>\n      <td>Married</td>\n      <td>Municipal apartment</td>\n      <td>-13899</td>\n      <td>-4709</td>\n      <td>1</td>\n      <td>0</td>\n      <td>0</td>\n      <td>0</td>\n      <td>NaN</td>\n      <td>2.0</td>\n      <td>-6.0</td>\n      <td>1.0</td>\n    </tr>\n    <tr>\n      <th>1</th>\n      <td>1</td>\n      <td>F</td>\n      <td>N</td>\n      <td>Y</td>\n      <td>1</td>\n      <td>247500.0</td>\n      <td>Commercial associate</td>\n      <td>Secondary / secondary special</td>\n      <td>Civil marriage</td>\n      <td>House / apartment</td>\n      <td>-11380</td>\n      <td>-1540</td>\n      <td>1</td>\n      <td>0</td>\n      <td>0</td>\n      <td>1</td>\n      <td>Laborers</td>\n      <td>3.0</td>\n      <td>-5.0</td>\n      <td>1.0</td>\n    </tr>\n    <tr>\n      <th>2</th>\n      <td>2</td>\n      <td>M</td>\n      <td>Y</td>\n      <td>Y</td>\n      <td>0</td>\n      <td>450000.0</td>\n      <td>Working</td>\n      <td>Higher education</td>\n      <td>Married</td>\n      <td>House / apartment</td>\n      <td>-19087</td>\n      <td>-4434</td>\n      <td>1</td>\n      <td>0</td>\n      <td>1</td>\n      <td>0</td>\n      <td>Managers</td>\n      <td>2.0</td>\n      <td>-22.0</td>\n      <td>2.0</td>\n    </tr>\n    <tr>\n      <th>3</th>\n      <td>3</td>\n      <td>F</td>\n      <td>N</td>\n      <td>Y</td>\n      <td>0</td>\n      <td>202500.0</td>\n      <td>Commercial associate</td>\n      <td>Secondary / secondary special</td>\n      <td>Married</td>\n      <td>House / apartment</td>\n      <td>-15088</td>\n      <td>-2092</td>\n      <td>1</td>\n      <td>0</td>\n      <td>1</td>\n      <td>0</td>\n      <td>Sales staff</td>\n      <td>2.0</td>\n      <td>-37.0</td>\n      <td>0.0</td>\n    </tr>\n    <tr>\n      <th>4</th>\n      <td>4</td>\n      <td>F</td>\n      <td>Y</td>\n      <td>Y</td>\n      <td>0</td>\n      <td>157500.0</td>\n      <td>State servant</td>\n      <td>Higher education</td>\n      <td>Married</td>\n      <td>House / apartment</td>\n      <td>-15037</td>\n      <td>-2105</td>\n      <td>1</td>\n      <td>0</td>\n      <td>0</td>\n      <td>0</td>\n      <td>Managers</td>\n      <td>2.0</td>\n      <td>-26.0</td>\n      <td>2.0</td>\n    </tr>\n  </tbody>\n</table>\n</div>",
      "text/plain": "   index gender car reality  child_num  income_total           income_type  \\\n0      0      F   N       N          0      202500.0  Commercial associate   \n1      1      F   N       Y          1      247500.0  Commercial associate   \n2      2      M   Y       Y          0      450000.0               Working   \n3      3      F   N       Y          0      202500.0  Commercial associate   \n4      4      F   Y       Y          0      157500.0         State servant   \n\n                        edu_type     family_type           house_type  \\\n0               Higher education         Married  Municipal apartment   \n1  Secondary / secondary special  Civil marriage    House / apartment   \n2               Higher education         Married    House / apartment   \n3  Secondary / secondary special         Married    House / apartment   \n4               Higher education         Married    House / apartment   \n\n   DAYS_BIRTH  DAYS_EMPLOYED  FLAG_MOBIL  work_phone  phone  email  \\\n0      -13899          -4709           1           0      0      0   \n1      -11380          -1540           1           0      0      1   \n2      -19087          -4434           1           0      1      0   \n3      -15088          -2092           1           0      1      0   \n4      -15037          -2105           1           0      0      0   \n\n    occyp_type  family_size  begin_month  credit  \n0          NaN          2.0         -6.0     1.0  \n1     Laborers          3.0         -5.0     1.0  \n2     Managers          2.0        -22.0     2.0  \n3  Sales staff          2.0        -37.0     0.0  \n4     Managers          2.0        -26.0     2.0  "
     },
     "execution_count": 4,
     "metadata": {},
     "output_type": "execute_result"
    }
   ],
   "source": [
    "train.head()"
   ]
  },
  {
   "cell_type": "code",
   "execution_count": 5,
   "metadata": {},
   "outputs": [
    {
     "data": {
      "text/html": "<div>\n<style scoped>\n    .dataframe tbody tr th:only-of-type {\n        vertical-align: middle;\n    }\n\n    .dataframe tbody tr th {\n        vertical-align: top;\n    }\n\n    .dataframe thead th {\n        text-align: right;\n    }\n</style>\n<table border=\"1\" class=\"dataframe\">\n  <thead>\n    <tr style=\"text-align: right;\">\n      <th></th>\n      <th>index</th>\n      <th>gender</th>\n      <th>car</th>\n      <th>reality</th>\n      <th>child_num</th>\n      <th>income_total</th>\n      <th>income_type</th>\n      <th>edu_type</th>\n      <th>family_type</th>\n      <th>house_type</th>\n      <th>DAYS_BIRTH</th>\n      <th>DAYS_EMPLOYED</th>\n      <th>FLAG_MOBIL</th>\n      <th>work_phone</th>\n      <th>phone</th>\n      <th>email</th>\n      <th>occyp_type</th>\n      <th>family_size</th>\n      <th>begin_month</th>\n    </tr>\n  </thead>\n  <tbody>\n    <tr>\n      <th>0</th>\n      <td>26457</td>\n      <td>M</td>\n      <td>Y</td>\n      <td>N</td>\n      <td>0</td>\n      <td>112500.0</td>\n      <td>Pensioner</td>\n      <td>Secondary / secondary special</td>\n      <td>Civil marriage</td>\n      <td>House / apartment</td>\n      <td>-21990</td>\n      <td>365243</td>\n      <td>1</td>\n      <td>0</td>\n      <td>1</td>\n      <td>0</td>\n      <td>NaN</td>\n      <td>2.0</td>\n      <td>-60.0</td>\n    </tr>\n    <tr>\n      <th>1</th>\n      <td>26458</td>\n      <td>F</td>\n      <td>N</td>\n      <td>Y</td>\n      <td>0</td>\n      <td>135000.0</td>\n      <td>State servant</td>\n      <td>Higher education</td>\n      <td>Married</td>\n      <td>House / apartment</td>\n      <td>-18964</td>\n      <td>-8671</td>\n      <td>1</td>\n      <td>0</td>\n      <td>1</td>\n      <td>0</td>\n      <td>Core staff</td>\n      <td>2.0</td>\n      <td>-36.0</td>\n    </tr>\n    <tr>\n      <th>2</th>\n      <td>26459</td>\n      <td>F</td>\n      <td>N</td>\n      <td>Y</td>\n      <td>0</td>\n      <td>69372.0</td>\n      <td>Working</td>\n      <td>Secondary / secondary special</td>\n      <td>Married</td>\n      <td>House / apartment</td>\n      <td>-15887</td>\n      <td>-217</td>\n      <td>1</td>\n      <td>1</td>\n      <td>1</td>\n      <td>0</td>\n      <td>Laborers</td>\n      <td>2.0</td>\n      <td>-40.0</td>\n    </tr>\n    <tr>\n      <th>3</th>\n      <td>26460</td>\n      <td>M</td>\n      <td>Y</td>\n      <td>N</td>\n      <td>0</td>\n      <td>112500.0</td>\n      <td>Commercial associate</td>\n      <td>Secondary / secondary special</td>\n      <td>Married</td>\n      <td>House / apartment</td>\n      <td>-19270</td>\n      <td>-2531</td>\n      <td>1</td>\n      <td>1</td>\n      <td>0</td>\n      <td>0</td>\n      <td>Drivers</td>\n      <td>2.0</td>\n      <td>-41.0</td>\n    </tr>\n    <tr>\n      <th>4</th>\n      <td>26461</td>\n      <td>F</td>\n      <td>Y</td>\n      <td>Y</td>\n      <td>0</td>\n      <td>225000.0</td>\n      <td>State servant</td>\n      <td>Higher education</td>\n      <td>Married</td>\n      <td>House / apartment</td>\n      <td>-17822</td>\n      <td>-9385</td>\n      <td>1</td>\n      <td>1</td>\n      <td>0</td>\n      <td>0</td>\n      <td>Managers</td>\n      <td>2.0</td>\n      <td>-8.0</td>\n    </tr>\n  </tbody>\n</table>\n</div>",
      "text/plain": "   index gender car reality  child_num  income_total           income_type  \\\n0  26457      M   Y       N          0      112500.0             Pensioner   \n1  26458      F   N       Y          0      135000.0         State servant   \n2  26459      F   N       Y          0       69372.0               Working   \n3  26460      M   Y       N          0      112500.0  Commercial associate   \n4  26461      F   Y       Y          0      225000.0         State servant   \n\n                        edu_type     family_type         house_type  \\\n0  Secondary / secondary special  Civil marriage  House / apartment   \n1               Higher education         Married  House / apartment   \n2  Secondary / secondary special         Married  House / apartment   \n3  Secondary / secondary special         Married  House / apartment   \n4               Higher education         Married  House / apartment   \n\n   DAYS_BIRTH  DAYS_EMPLOYED  FLAG_MOBIL  work_phone  phone  email  \\\n0      -21990         365243           1           0      1      0   \n1      -18964          -8671           1           0      1      0   \n2      -15887           -217           1           1      1      0   \n3      -19270          -2531           1           1      0      0   \n4      -17822          -9385           1           1      0      0   \n\n   occyp_type  family_size  begin_month  \n0         NaN          2.0        -60.0  \n1  Core staff          2.0        -36.0  \n2    Laborers          2.0        -40.0  \n3     Drivers          2.0        -41.0  \n4    Managers          2.0         -8.0  "
     },
     "execution_count": 5,
     "metadata": {},
     "output_type": "execute_result"
    }
   ],
   "source": [
    "test.head()"
   ]
  },
  {
   "cell_type": "code",
   "execution_count": 6,
   "metadata": {},
   "outputs": [
    {
     "data": {
      "text/plain": "(26457, 20)"
     },
     "execution_count": 6,
     "metadata": {},
     "output_type": "execute_result"
    }
   ],
   "source": [
    "train.shape"
   ]
  },
  {
   "cell_type": "code",
   "execution_count": 7,
   "metadata": {},
   "outputs": [
    {
     "data": {
      "text/plain": "(10000, 19)"
     },
     "execution_count": 7,
     "metadata": {},
     "output_type": "execute_result"
    }
   ],
   "source": [
    "test.shape"
   ]
  },
  {
   "cell_type": "code",
   "execution_count": 8,
   "metadata": {},
   "outputs": [
    {
     "name": "stdout",
     "output_type": "stream",
     "text": [
      "<class 'pandas.core.frame.DataFrame'>\n",
      "RangeIndex: 26457 entries, 0 to 26456\n",
      "Data columns (total 20 columns):\n",
      " #   Column         Non-Null Count  Dtype  \n",
      "---  ------         --------------  -----  \n",
      " 0   index          26457 non-null  int64  \n",
      " 1   gender         26457 non-null  object \n",
      " 2   car            26457 non-null  object \n",
      " 3   reality        26457 non-null  object \n",
      " 4   child_num      26457 non-null  int64  \n",
      " 5   income_total   26457 non-null  float64\n",
      " 6   income_type    26457 non-null  object \n",
      " 7   edu_type       26457 non-null  object \n",
      " 8   family_type    26457 non-null  object \n",
      " 9   house_type     26457 non-null  object \n",
      " 10  DAYS_BIRTH     26457 non-null  int64  \n",
      " 11  DAYS_EMPLOYED  26457 non-null  int64  \n",
      " 12  FLAG_MOBIL     26457 non-null  int64  \n",
      " 13  work_phone     26457 non-null  int64  \n",
      " 14  phone          26457 non-null  int64  \n",
      " 15  email          26457 non-null  int64  \n",
      " 16  occyp_type     18286 non-null  object \n",
      " 17  family_size    26457 non-null  float64\n",
      " 18  begin_month    26457 non-null  float64\n",
      " 19  credit         26457 non-null  float64\n",
      "dtypes: float64(4), int64(8), object(8)\n",
      "memory usage: 4.0+ MB\n"
     ]
    }
   ],
   "source": [
    "train.info()"
   ]
  },
  {
   "cell_type": "markdown",
   "metadata": {},
   "source": [
    "# **[데이터 전처리]**"
   ]
  },
  {
   "cell_type": "markdown",
   "metadata": {},
   "source": [
    "**(주의) train data에 해준 그대로 test data 전처리**"
   ]
  },
  {
   "cell_type": "markdown",
   "metadata": {},
   "source": [
    "## **1. 결측치 제거** "
   ]
  },
  {
   "cell_type": "code",
   "execution_count": 11,
   "metadata": {},
   "outputs": [
    {
     "data": {
      "text/plain": "index            0\ngender           0\ncar              0\nreality          0\nchild_num        0\nincome_total     0\nincome_type      0\nedu_type         0\nfamily_type      0\nhouse_type       0\nDAYS_BIRTH       0\nDAYS_EMPLOYED    0\nFLAG_MOBIL       0\nwork_phone       0\nphone            0\nemail            0\nfamily_size      0\nbegin_month      0\ncredit           0\ndtype: int64"
     },
     "execution_count": 11,
     "metadata": {},
     "output_type": "execute_result"
    }
   ],
   "source": [
    "train.isnull().sum()"
   ]
  },
  {
   "cell_type": "code",
   "execution_count": null,
   "metadata": {},
   "outputs": [],
   "source": []
  },
  {
   "cell_type": "code",
   "execution_count": 10,
   "metadata": {},
   "outputs": [],
   "source": [
    "train=train.drop('occyp_type', axis=1)\n",
    "test=test.drop('occyp_type', axis=1)"
   ]
  },
  {
   "cell_type": "markdown",
   "metadata": {},
   "source": [
    "## **2. Binary variables**"
   ]
  },
  {
   "cell_type": "code",
   "execution_count": 13,
   "metadata": {},
   "outputs": [
    {
     "name": "stdout",
     "output_type": "stream",
     "text": [
      "gender :\n",
      "0    17697\n",
      "1     8760\n",
      "Name: gender, dtype: int64\n",
      "--------------\n",
      "Having a car or not : \n",
      "0    16410\n",
      "1    10047\n",
      "Name: car, dtype: int64\n",
      "--------------\n",
      "Having house reality or not: \n",
      "1    17830\n",
      "0     8627\n",
      "Name: reality, dtype: int64\n",
      "--------------\n",
      "Having a phone or not: \n",
      "0    18672\n",
      "1     7785\n",
      "Name: phone, dtype: int64\n",
      "--------------\n",
      "Having a email or not: \n",
      "0    24042\n",
      "1     2415\n",
      "Name: email, dtype: int64\n",
      "--------------\n",
      "Having a work phone or not: \n",
      "0    20511\n",
      "1     5946\n",
      "Name: work_phone, dtype: int64\n",
      "--------------\n"
     ]
    }
   ],
   "source": [
    "train['gender'] = train['gender'].replace(['F','M'],[0,1])\n",
    "test['gender'] = test['gender'].replace(['F','M'],[0,1])\n",
    "print('gender :')\n",
    "print(train['gender'].value_counts())\n",
    "print('--------------')\n",
    "\n",
    "print('Having a car or not : ')\n",
    "train['car'] = train['car'].replace(['N','Y'],[0,1])\n",
    "test['car'] = test['car'].replace(['N','Y'],[0,1])\n",
    "print(train['car'].value_counts())\n",
    "print('--------------')\n",
    "\n",
    "print('Having house reality or not: ')\n",
    "train['reality'] = train['reality'].replace(['N','Y'],[0,1])\n",
    "test['reality'] = test['reality'].replace(['N','Y'],[0,1])\n",
    "print(train['reality'].value_counts())\n",
    "print('--------------')\n",
    "      \n",
    "print('Having a phone or not: ')\n",
    "print(train['phone'].value_counts())\n",
    "print('--------------')\n",
    "      \n",
    "\n",
    "print('Having a email or not: ')\n",
    "print(train['email'].value_counts())\n",
    "print('--------------')\n",
    "      \n",
    "\n",
    "print('Having a work phone or not: ')\n",
    "print(train['work_phone'].value_counts())\n",
    "print('--------------')"
   ]
  },
  {
   "cell_type": "markdown",
   "metadata": {},
   "source": [
    "## **3. Continuous variable**"
   ]
  },
  {
   "cell_type": "markdown",
   "metadata": {},
   "source": [
    "### (1) child_num"
   ]
  },
  {
   "cell_type": "code",
   "execution_count": 14,
   "metadata": {},
   "outputs": [
    {
     "data": {
      "text/plain": "<AxesSubplot:>"
     },
     "execution_count": 14,
     "metadata": {},
     "output_type": "execute_result"
    },
    {
     "data": {
      "image/png": "[encoded data removed]",
      "text/plain": "<Figure size 432x288 with 1 Axes>"
     },
     "metadata": {
      "needs_background": "light"
     },
     "output_type": "display_data"
    }
   ],
   "source": [
    "train['child_num'].value_counts(sort=False).plot.bar()"
   ]
  },
  {
   "cell_type": "code",
   "execution_count": 15,
   "metadata": {},
   "outputs": [],
   "source": [
    "train.loc[train['child_num'] >= 2,'child_num']=2\n",
    "test.loc[test['child_num']>=2, 'child_num']=2"
   ]
  },
  {
   "cell_type": "markdown",
   "metadata": {},
   "source": [
    "### (2) inc"
   ]
  },
  {
   "cell_type": "code",
   "execution_count": 16,
   "metadata": {},
   "outputs": [
    {
     "name": "stdout",
     "output_type": "stream",
     "text": [
      "(2.544, 18.18]      16212\n",
      "(18.18, 33.66]       8330\n",
      "(33.66, 49.14]       1530\n",
      "(49.14, 64.62]        206\n",
      "(64.62, 80.1]         121\n",
      "(80.1, 95.58]          44\n",
      "(95.58, 111.06]         3\n",
      "(111.06, 126.54]        2\n",
      "(126.54, 142.02]        4\n",
      "(142.02, 157.5]         5\n",
      "Name: income_total, dtype: int64\n"
     ]
    },
    {
     "data": {
      "text/plain": "<AxesSubplot:ylabel='Frequency'>"
     },
     "execution_count": 16,
     "metadata": {},
     "output_type": "execute_result"
    },
    {
     "data": {
      "image/png": "[encoded data removed]",
      "text/plain": "<Figure size 432x288 with 1 Axes>"
     },
     "metadata": {
      "needs_background": "light"
     },
     "output_type": "display_data"
    }
   ],
   "source": [
    "train['income_total'] = train['income_total'].astype(object)\n",
    "train['income_total'] = train['income_total']/10000 \n",
    "test['income_total'] = test['income_total']/10000\n",
    "##############################################################3\n",
    "print(train['income_total'].value_counts(bins=10,sort=False))\n",
    "train['income_total'].plot(kind='hist',bins=50,density=True)"
   ]
  },
  {
   "cell_type": "code",
   "execution_count": 17,
   "metadata": {},
   "outputs": [],
   "source": [
    "count, bin_dividers =np.histogram(train['income_total'], bins=7)\n",
    "bin_names=['소득'+str(i) for i in range(7) ]\n",
    "#bin_dividers는 train기준!!\n",
    "train['income_total']=pd.cut(x=train['income_total'], bins=bin_dividers, labels=bin_names, include_lowest=True)\n",
    "test['income_total']=pd.cut(x=test['income_total'], bins=bin_dividers, labels=bin_names, include_lowest=True)\n"
   ]
  },
  {
   "cell_type": "code",
   "execution_count": 18,
   "metadata": {},
   "outputs": [
    {
     "data": {
      "text/html": "<div>\n<style scoped>\n    .dataframe tbody tr th:only-of-type {\n        vertical-align: middle;\n    }\n\n    .dataframe tbody tr th {\n        vertical-align: top;\n    }\n\n    .dataframe thead th {\n        text-align: right;\n    }\n</style>\n<table border=\"1\" class=\"dataframe\">\n  <thead>\n    <tr style=\"text-align: right;\">\n      <th></th>\n      <th>index</th>\n      <th>gender</th>\n      <th>car</th>\n      <th>reality</th>\n      <th>child_num</th>\n      <th>income_total</th>\n      <th>income_type</th>\n      <th>edu_type</th>\n      <th>family_type</th>\n      <th>house_type</th>\n      <th>DAYS_BIRTH</th>\n      <th>DAYS_EMPLOYED</th>\n      <th>FLAG_MOBIL</th>\n      <th>work_phone</th>\n      <th>phone</th>\n      <th>email</th>\n      <th>family_size</th>\n      <th>begin_month</th>\n    </tr>\n  </thead>\n  <tbody>\n    <tr>\n      <th>0</th>\n      <td>26457</td>\n      <td>1</td>\n      <td>1</td>\n      <td>0</td>\n      <td>0</td>\n      <td>소득0</td>\n      <td>Pensioner</td>\n      <td>Secondary / secondary special</td>\n      <td>Civil marriage</td>\n      <td>House / apartment</td>\n      <td>-21990</td>\n      <td>365243</td>\n      <td>1</td>\n      <td>0</td>\n      <td>1</td>\n      <td>0</td>\n      <td>2.0</td>\n      <td>-60.0</td>\n    </tr>\n    <tr>\n      <th>1</th>\n      <td>26458</td>\n      <td>0</td>\n      <td>0</td>\n      <td>1</td>\n      <td>0</td>\n      <td>소득0</td>\n      <td>State servant</td>\n      <td>Higher education</td>\n      <td>Married</td>\n      <td>House / apartment</td>\n      <td>-18964</td>\n      <td>-8671</td>\n      <td>1</td>\n      <td>0</td>\n      <td>1</td>\n      <td>0</td>\n      <td>2.0</td>\n      <td>-36.0</td>\n    </tr>\n    <tr>\n      <th>2</th>\n      <td>26459</td>\n      <td>0</td>\n      <td>0</td>\n      <td>1</td>\n      <td>0</td>\n      <td>소득0</td>\n      <td>Working</td>\n      <td>Secondary / secondary special</td>\n      <td>Married</td>\n      <td>House / apartment</td>\n      <td>-15887</td>\n      <td>-217</td>\n      <td>1</td>\n      <td>1</td>\n      <td>1</td>\n      <td>0</td>\n      <td>2.0</td>\n      <td>-40.0</td>\n    </tr>\n    <tr>\n      <th>3</th>\n      <td>26460</td>\n      <td>1</td>\n      <td>1</td>\n      <td>0</td>\n      <td>0</td>\n      <td>소득0</td>\n      <td>Commercial associate</td>\n      <td>Secondary / secondary special</td>\n      <td>Married</td>\n      <td>House / apartment</td>\n      <td>-19270</td>\n      <td>-2531</td>\n      <td>1</td>\n      <td>1</td>\n      <td>0</td>\n      <td>0</td>\n      <td>2.0</td>\n      <td>-41.0</td>\n    </tr>\n    <tr>\n      <th>4</th>\n      <td>26461</td>\n      <td>0</td>\n      <td>1</td>\n      <td>1</td>\n      <td>0</td>\n      <td>소득0</td>\n      <td>State servant</td>\n      <td>Higher education</td>\n      <td>Married</td>\n      <td>House / apartment</td>\n      <td>-17822</td>\n      <td>-9385</td>\n      <td>1</td>\n      <td>1</td>\n      <td>0</td>\n      <td>0</td>\n      <td>2.0</td>\n      <td>-8.0</td>\n    </tr>\n    <tr>\n      <th>...</th>\n      <td>...</td>\n      <td>...</td>\n      <td>...</td>\n      <td>...</td>\n      <td>...</td>\n      <td>...</td>\n      <td>...</td>\n      <td>...</td>\n      <td>...</td>\n      <td>...</td>\n      <td>...</td>\n      <td>...</td>\n      <td>...</td>\n      <td>...</td>\n      <td>...</td>\n      <td>...</td>\n      <td>...</td>\n      <td>...</td>\n    </tr>\n    <tr>\n      <th>9995</th>\n      <td>36452</td>\n      <td>0</td>\n      <td>1</td>\n      <td>1</td>\n      <td>0</td>\n      <td>소득0</td>\n      <td>Working</td>\n      <td>Incomplete higher</td>\n      <td>Married</td>\n      <td>House / apartment</td>\n      <td>-18593</td>\n      <td>-5434</td>\n      <td>1</td>\n      <td>1</td>\n      <td>1</td>\n      <td>0</td>\n      <td>2.0</td>\n      <td>-19.0</td>\n    </tr>\n    <tr>\n      <th>9996</th>\n      <td>36453</td>\n      <td>1</td>\n      <td>1</td>\n      <td>1</td>\n      <td>0</td>\n      <td>소득0</td>\n      <td>Working</td>\n      <td>Secondary / secondary special</td>\n      <td>Civil marriage</td>\n      <td>House / apartment</td>\n      <td>-10886</td>\n      <td>-1315</td>\n      <td>1</td>\n      <td>1</td>\n      <td>0</td>\n      <td>0</td>\n      <td>2.0</td>\n      <td>-34.0</td>\n    </tr>\n    <tr>\n      <th>9997</th>\n      <td>36454</td>\n      <td>0</td>\n      <td>0</td>\n      <td>1</td>\n      <td>0</td>\n      <td>소득1</td>\n      <td>Working</td>\n      <td>Secondary / secondary special</td>\n      <td>Married</td>\n      <td>House / apartment</td>\n      <td>-21016</td>\n      <td>-14018</td>\n      <td>1</td>\n      <td>0</td>\n      <td>0</td>\n      <td>0</td>\n      <td>2.0</td>\n      <td>-55.0</td>\n    </tr>\n    <tr>\n      <th>9998</th>\n      <td>36455</td>\n      <td>0</td>\n      <td>1</td>\n      <td>0</td>\n      <td>0</td>\n      <td>소득0</td>\n      <td>Commercial associate</td>\n      <td>Secondary / secondary special</td>\n      <td>Married</td>\n      <td>House / apartment</td>\n      <td>-16541</td>\n      <td>-1085</td>\n      <td>1</td>\n      <td>0</td>\n      <td>1</td>\n      <td>0</td>\n      <td>2.0</td>\n      <td>-33.0</td>\n    </tr>\n    <tr>\n      <th>9999</th>\n      <td>36456</td>\n      <td>0</td>\n      <td>0</td>\n      <td>1</td>\n      <td>0</td>\n      <td>소득1</td>\n      <td>Working</td>\n      <td>Higher education</td>\n      <td>Married</td>\n      <td>House / apartment</td>\n      <td>-9154</td>\n      <td>-187</td>\n      <td>1</td>\n      <td>0</td>\n      <td>0</td>\n      <td>1</td>\n      <td>2.0</td>\n      <td>-11.0</td>\n    </tr>\n  </tbody>\n</table>\n<p>10000 rows × 18 columns</p>\n</div>",
      "text/plain": "      index  gender  car  reality  child_num income_total  \\\n0     26457       1    1        0          0          소득0   \n1     26458       0    0        1          0          소득0   \n2     26459       0    0        1          0          소득0   \n3     26460       1    1        0          0          소득0   \n4     26461       0    1        1          0          소득0   \n...     ...     ...  ...      ...        ...          ...   \n9995  36452       0    1        1          0          소득0   \n9996  36453       1    1        1          0          소득0   \n9997  36454       0    0        1          0          소득1   \n9998  36455       0    1        0          0          소득0   \n9999  36456       0    0        1          0          소득1   \n\n               income_type                       edu_type     family_type  \\\n0                Pensioner  Secondary / secondary special  Civil marriage   \n1            State servant               Higher education         Married   \n2                  Working  Secondary / secondary special         Married   \n3     Commercial associate  Secondary / secondary special         Married   \n4            State servant               Higher education         Married   \n...                    ...                            ...             ...   \n9995               Working              Incomplete higher         Married   \n9996               Working  Secondary / secondary special  Civil marriage   \n9997               Working  Secondary / secondary special         Married   \n9998  Commercial associate  Secondary / secondary special         Married   \n9999               Working               Higher education         Married   \n\n             house_type  DAYS_BIRTH  DAYS_EMPLOYED  FLAG_MOBIL  work_phone  \\\n0     House / apartment      -21990         365243           1           0   \n1     House / apartment      -18964          -8671           1           0   \n2     House / apartment      -15887           -217           1           1   \n3     House / apartment      -19270          -2531           1           1   \n4     House / apartment      -17822          -9385           1           1   \n...                 ...         ...            ...         ...         ...   \n9995  House / apartment      -18593          -5434           1           1   \n9996  House / apartment      -10886          -1315           1           1   \n9997  House / apartment      -21016         -14018           1           0   \n9998  House / apartment      -16541          -1085           1           0   \n9999  House / apartment       -9154           -187           1           0   \n\n      phone  email  family_size  begin_month  \n0         1      0          2.0        -60.0  \n1         1      0          2.0        -36.0  \n2         1      0          2.0        -40.0  \n3         0      0          2.0        -41.0  \n4         0      0          2.0         -8.0  \n...     ...    ...          ...          ...  \n9995      1      0          2.0        -19.0  \n9996      0      0          2.0        -34.0  \n9997      0      0          2.0        -55.0  \n9998      1      0          2.0        -33.0  \n9999      0      1          2.0        -11.0  \n\n[10000 rows x 18 columns]"
     },
     "execution_count": 18,
     "metadata": {},
     "output_type": "execute_result"
    }
   ],
   "source": [
    "test"
   ]
  },
  {
   "cell_type": "markdown",
   "metadata": {},
   "source": [
    "### **(3) Type**"
   ]
  },
  {
   "cell_type": "code",
   "execution_count": 19,
   "metadata": {},
   "outputs": [
    {
     "name": "stdout",
     "output_type": "stream",
     "text": [
      "['Commercial associate' 'Working' 'State servant' 'Pensioner' 'Student']\n",
      "['Higher education' 'Secondary / secondary special' 'Incomplete higher'\n",
      " 'Lower secondary' 'Academic degree']\n",
      "['Married' 'Civil marriage' 'Separated' 'Single / not married' 'Widow']\n",
      "['Municipal apartment' 'House / apartment' 'With parents'\n",
      " 'Co-op apartment' 'Rented apartment' 'Office apartment']\n"
     ]
    }
   ],
   "source": [
    "print(train['income_type'].unique())\n",
    "print(train['edu_type'].unique())\n",
    "print(train['family_type'].unique())\n",
    "print(train['house_type'].unique())"
   ]
  },
  {
   "cell_type": "code",
   "execution_count": 20,
   "metadata": {},
   "outputs": [],
   "source": [
    "from sklearn import preprocessing\n",
    "label_encoder=preprocessing.LabelEncoder()\n",
    "train['income_type']=label_encoder.fit_transform(train['income_type'])\n",
    "test['income_type']=label_encoder.transform(test['income_type'])\n",
    "########################################################################\n",
    "train['edu_type']=label_encoder.fit_transform(train['edu_type'])\n",
    "test['edu_type']=label_encoder.transform(test['edu_type'])\n",
    "########################################################################\n",
    "train['family_type']=label_encoder.fit_transform(train['family_type'])\n",
    "test['family_type']=label_encoder.transform(test['family_type'])\n",
    "########################################################################\n",
    "train['house_type']=label_encoder.fit_transform(train['house_type'])\n",
    "test['house_type']=label_encoder.transform(test['house_type'])\n",
    "########################################################################\n",
    "train['income_total']=label_encoder.fit_transform(train['income_total'])\n",
    "test['income_total']=label_encoder.fit_transform(test['income_total'])"
   ]
  },
  {
   "cell_type": "markdown",
   "metadata": {},
   "source": [
    "## **4. Minus continuous variable**"
   ]
  },
  {
   "cell_type": "code",
   "execution_count": 21,
   "metadata": {},
   "outputs": [],
   "source": [
    "#minus 변경하고\n",
    "#구간화 함수\n",
    "def make_bin(variable, n):\n",
    "    train[variable]=-train[variable]\n",
    "    test[variable]=-test[variable]\n",
    "    count, bin_dividers =np.histogram(train[variable], bins=n) #train의 구간화를 적용\n",
    "    bin_names=[str(i) for i in range(n)]\n",
    "    train[variable]=pd.cut(x=train[variable], bins=bin_dividers, labels=bin_names, include_lowest=True)\n",
    "    test[variable]=pd.cut(x=test[variable], bins=bin_dividers, labels=bin_names, include_lowest=True)\n",
    "    test[variable].fillna(str(0), inplace=True) #test에는 없는 것을 임의의 값으로 채움\n",
    "    ##########################################################\n",
    "    train[variable]=label_encoder.fit_transform(train[variable])\n",
    "    test[variable]=label_encoder.transform(test[variable])"
   ]
  },
  {
   "cell_type": "code",
   "execution_count": 22,
   "metadata": {},
   "outputs": [
    {
     "data": {
      "text/plain": "Index(['index', 'gender', 'car', 'reality', 'child_num', 'income_total',\n       'income_type', 'edu_type', 'family_type', 'house_type', 'DAYS_BIRTH',\n       'DAYS_EMPLOYED', 'FLAG_MOBIL', 'work_phone', 'phone', 'email',\n       'family_size', 'begin_month', 'credit'],\n      dtype='object')"
     },
     "execution_count": 22,
     "metadata": {},
     "output_type": "execute_result"
    }
   ],
   "source": [
    "train.columns"
   ]
  },
  {
   "cell_type": "code",
   "execution_count": 23,
   "metadata": {},
   "outputs": [],
   "source": [
    "make_bin('DAYS_BIRTH', n=10)\n",
    "make_bin('DAYS_EMPLOYED', n=6)\n",
    "make_bin('begin_month', n=4)"
   ]
  },
  {
   "cell_type": "code",
   "execution_count": 24,
   "metadata": {},
   "outputs": [
    {
     "data": {
      "text/html": "<div>\n<style scoped>\n    .dataframe tbody tr th:only-of-type {\n        vertical-align: middle;\n    }\n\n    .dataframe tbody tr th {\n        vertical-align: top;\n    }\n\n    .dataframe thead th {\n        text-align: right;\n    }\n</style>\n<table border=\"1\" class=\"dataframe\">\n  <thead>\n    <tr style=\"text-align: right;\">\n      <th></th>\n      <th>index</th>\n      <th>gender</th>\n      <th>car</th>\n      <th>reality</th>\n      <th>child_num</th>\n      <th>income_total</th>\n      <th>income_type</th>\n      <th>edu_type</th>\n      <th>family_type</th>\n      <th>house_type</th>\n      <th>DAYS_BIRTH</th>\n      <th>DAYS_EMPLOYED</th>\n      <th>FLAG_MOBIL</th>\n      <th>work_phone</th>\n      <th>phone</th>\n      <th>email</th>\n      <th>family_size</th>\n      <th>begin_month</th>\n      <th>credit</th>\n    </tr>\n  </thead>\n  <tbody>\n    <tr>\n      <th>0</th>\n      <td>0</td>\n      <td>0</td>\n      <td>0</td>\n      <td>0</td>\n      <td>0</td>\n      <td>0</td>\n      <td>0</td>\n      <td>1</td>\n      <td>1</td>\n      <td>2</td>\n      <td>3</td>\n      <td>1</td>\n      <td>1</td>\n      <td>0</td>\n      <td>0</td>\n      <td>0</td>\n      <td>2.0</td>\n      <td>0</td>\n      <td>1.0</td>\n    </tr>\n    <tr>\n      <th>1</th>\n      <td>1</td>\n      <td>0</td>\n      <td>0</td>\n      <td>1</td>\n      <td>1</td>\n      <td>0</td>\n      <td>0</td>\n      <td>4</td>\n      <td>0</td>\n      <td>1</td>\n      <td>2</td>\n      <td>1</td>\n      <td>1</td>\n      <td>0</td>\n      <td>0</td>\n      <td>1</td>\n      <td>3.0</td>\n      <td>0</td>\n      <td>1.0</td>\n    </tr>\n    <tr>\n      <th>2</th>\n      <td>2</td>\n      <td>1</td>\n      <td>1</td>\n      <td>1</td>\n      <td>0</td>\n      <td>1</td>\n      <td>4</td>\n      <td>1</td>\n      <td>1</td>\n      <td>1</td>\n      <td>6</td>\n      <td>1</td>\n      <td>1</td>\n      <td>0</td>\n      <td>1</td>\n      <td>0</td>\n      <td>2.0</td>\n      <td>1</td>\n      <td>2.0</td>\n    </tr>\n    <tr>\n      <th>3</th>\n      <td>3</td>\n      <td>0</td>\n      <td>0</td>\n      <td>1</td>\n      <td>0</td>\n      <td>0</td>\n      <td>0</td>\n      <td>4</td>\n      <td>1</td>\n      <td>1</td>\n      <td>4</td>\n      <td>1</td>\n      <td>1</td>\n      <td>0</td>\n      <td>1</td>\n      <td>0</td>\n      <td>2.0</td>\n      <td>2</td>\n      <td>0.0</td>\n    </tr>\n    <tr>\n      <th>4</th>\n      <td>4</td>\n      <td>0</td>\n      <td>1</td>\n      <td>1</td>\n      <td>0</td>\n      <td>0</td>\n      <td>2</td>\n      <td>1</td>\n      <td>1</td>\n      <td>1</td>\n      <td>4</td>\n      <td>1</td>\n      <td>1</td>\n      <td>0</td>\n      <td>0</td>\n      <td>0</td>\n      <td>2.0</td>\n      <td>1</td>\n      <td>2.0</td>\n    </tr>\n    <tr>\n      <th>...</th>\n      <td>...</td>\n      <td>...</td>\n      <td>...</td>\n      <td>...</td>\n      <td>...</td>\n      <td>...</td>\n      <td>...</td>\n      <td>...</td>\n      <td>...</td>\n      <td>...</td>\n      <td>...</td>\n      <td>...</td>\n      <td>...</td>\n      <td>...</td>\n      <td>...</td>\n      <td>...</td>\n      <td>...</td>\n      <td>...</td>\n      <td>...</td>\n    </tr>\n    <tr>\n      <th>26452</th>\n      <td>26452</td>\n      <td>0</td>\n      <td>0</td>\n      <td>0</td>\n      <td>2</td>\n      <td>0</td>\n      <td>2</td>\n      <td>4</td>\n      <td>1</td>\n      <td>1</td>\n      <td>2</td>\n      <td>1</td>\n      <td>1</td>\n      <td>0</td>\n      <td>0</td>\n      <td>0</td>\n      <td>4.0</td>\n      <td>0</td>\n      <td>1.0</td>\n    </tr>\n    <tr>\n      <th>26453</th>\n      <td>26453</td>\n      <td>0</td>\n      <td>0</td>\n      <td>1</td>\n      <td>1</td>\n      <td>0</td>\n      <td>4</td>\n      <td>1</td>\n      <td>2</td>\n      <td>1</td>\n      <td>4</td>\n      <td>1</td>\n      <td>1</td>\n      <td>0</td>\n      <td>0</td>\n      <td>0</td>\n      <td>2.0</td>\n      <td>3</td>\n      <td>2.0</td>\n    </tr>\n    <tr>\n      <th>26454</th>\n      <td>26454</td>\n      <td>0</td>\n      <td>1</td>\n      <td>0</td>\n      <td>0</td>\n      <td>1</td>\n      <td>4</td>\n      <td>4</td>\n      <td>0</td>\n      <td>5</td>\n      <td>1</td>\n      <td>1</td>\n      <td>1</td>\n      <td>0</td>\n      <td>0</td>\n      <td>0</td>\n      <td>2.0</td>\n      <td>1</td>\n      <td>2.0</td>\n    </tr>\n    <tr>\n      <th>26455</th>\n      <td>26455</td>\n      <td>1</td>\n      <td>0</td>\n      <td>1</td>\n      <td>0</td>\n      <td>0</td>\n      <td>4</td>\n      <td>2</td>\n      <td>3</td>\n      <td>1</td>\n      <td>1</td>\n      <td>1</td>\n      <td>1</td>\n      <td>0</td>\n      <td>0</td>\n      <td>0</td>\n      <td>1.0</td>\n      <td>3</td>\n      <td>2.0</td>\n    </tr>\n    <tr>\n      <th>26456</th>\n      <td>26456</td>\n      <td>0</td>\n      <td>0</td>\n      <td>0</td>\n      <td>0</td>\n      <td>0</td>\n      <td>4</td>\n      <td>4</td>\n      <td>0</td>\n      <td>1</td>\n      <td>6</td>\n      <td>1</td>\n      <td>1</td>\n      <td>0</td>\n      <td>0</td>\n      <td>0</td>\n      <td>2.0</td>\n      <td>0</td>\n      <td>2.0</td>\n    </tr>\n  </tbody>\n</table>\n<p>26457 rows × 19 columns</p>\n</div>",
      "text/plain": "       index  gender  car  reality  child_num  income_total  income_type  \\\n0          0       0    0        0          0             0            0   \n1          1       0    0        1          1             0            0   \n2          2       1    1        1          0             1            4   \n3          3       0    0        1          0             0            0   \n4          4       0    1        1          0             0            2   \n...      ...     ...  ...      ...        ...           ...          ...   \n26452  26452       0    0        0          2             0            2   \n26453  26453       0    0        1          1             0            4   \n26454  26454       0    1        0          0             1            4   \n26455  26455       1    0        1          0             0            4   \n26456  26456       0    0        0          0             0            4   \n\n       edu_type  family_type  house_type  DAYS_BIRTH  DAYS_EMPLOYED  \\\n0             1            1           2           3              1   \n1             4            0           1           2              1   \n2             1            1           1           6              1   \n3             4            1           1           4              1   \n4             1            1           1           4              1   \n...         ...          ...         ...         ...            ...   \n26452         4            1           1           2              1   \n26453         1            2           1           4              1   \n26454         4            0           5           1              1   \n26455         2            3           1           1              1   \n26456         4            0           1           6              1   \n\n       FLAG_MOBIL  work_phone  phone  email  family_size  begin_month  credit  \n0               1           0      0      0          2.0            0     1.0  \n1               1           0      0      1          3.0            0     1.0  \n2               1           0      1      0          2.0            1     2.0  \n3               1           0      1      0          2.0            2     0.0  \n4               1           0      0      0          2.0            1     2.0  \n...           ...         ...    ...    ...          ...          ...     ...  \n26452           1           0      0      0          4.0            0     1.0  \n26453           1           0      0      0          2.0            3     2.0  \n26454           1           0      0      0          2.0            1     2.0  \n26455           1           0      0      0          1.0            3     2.0  \n26456           1           0      0      0          2.0            0     2.0  \n\n[26457 rows x 19 columns]"
     },
     "execution_count": 24,
     "metadata": {},
     "output_type": "execute_result"
    }
   ],
   "source": [
    "train"
   ]
  },
  {
   "cell_type": "code",
   "execution_count": 25,
   "metadata": {},
   "outputs": [
    {
     "data": {
      "text/html": "<div>\n<style scoped>\n    .dataframe tbody tr th:only-of-type {\n        vertical-align: middle;\n    }\n\n    .dataframe tbody tr th {\n        vertical-align: top;\n    }\n\n    .dataframe thead th {\n        text-align: right;\n    }\n</style>\n<table border=\"1\" class=\"dataframe\">\n  <thead>\n    <tr style=\"text-align: right;\">\n      <th></th>\n      <th>index</th>\n      <th>gender</th>\n      <th>car</th>\n      <th>reality</th>\n      <th>child_num</th>\n      <th>income_total</th>\n      <th>income_type</th>\n      <th>edu_type</th>\n      <th>family_type</th>\n      <th>house_type</th>\n      <th>DAYS_BIRTH</th>\n      <th>DAYS_EMPLOYED</th>\n      <th>FLAG_MOBIL</th>\n      <th>work_phone</th>\n      <th>phone</th>\n      <th>email</th>\n      <th>family_size</th>\n      <th>begin_month</th>\n    </tr>\n  </thead>\n  <tbody>\n    <tr>\n      <th>0</th>\n      <td>26457</td>\n      <td>1</td>\n      <td>1</td>\n      <td>0</td>\n      <td>0</td>\n      <td>0</td>\n      <td>1</td>\n      <td>4</td>\n      <td>0</td>\n      <td>1</td>\n      <td>8</td>\n      <td>0</td>\n      <td>1</td>\n      <td>0</td>\n      <td>1</td>\n      <td>0</td>\n      <td>2.0</td>\n      <td>3</td>\n    </tr>\n    <tr>\n      <th>1</th>\n      <td>26458</td>\n      <td>0</td>\n      <td>0</td>\n      <td>1</td>\n      <td>0</td>\n      <td>0</td>\n      <td>2</td>\n      <td>1</td>\n      <td>1</td>\n      <td>1</td>\n      <td>6</td>\n      <td>1</td>\n      <td>1</td>\n      <td>0</td>\n      <td>1</td>\n      <td>0</td>\n      <td>2.0</td>\n      <td>2</td>\n    </tr>\n    <tr>\n      <th>2</th>\n      <td>26459</td>\n      <td>0</td>\n      <td>0</td>\n      <td>1</td>\n      <td>0</td>\n      <td>0</td>\n      <td>4</td>\n      <td>4</td>\n      <td>1</td>\n      <td>1</td>\n      <td>4</td>\n      <td>1</td>\n      <td>1</td>\n      <td>1</td>\n      <td>1</td>\n      <td>0</td>\n      <td>2.0</td>\n      <td>2</td>\n    </tr>\n    <tr>\n      <th>3</th>\n      <td>26460</td>\n      <td>1</td>\n      <td>1</td>\n      <td>0</td>\n      <td>0</td>\n      <td>0</td>\n      <td>0</td>\n      <td>4</td>\n      <td>1</td>\n      <td>1</td>\n      <td>6</td>\n      <td>1</td>\n      <td>1</td>\n      <td>1</td>\n      <td>0</td>\n      <td>0</td>\n      <td>2.0</td>\n      <td>2</td>\n    </tr>\n    <tr>\n      <th>4</th>\n      <td>26461</td>\n      <td>0</td>\n      <td>1</td>\n      <td>1</td>\n      <td>0</td>\n      <td>0</td>\n      <td>2</td>\n      <td>1</td>\n      <td>1</td>\n      <td>1</td>\n      <td>5</td>\n      <td>1</td>\n      <td>1</td>\n      <td>1</td>\n      <td>0</td>\n      <td>0</td>\n      <td>2.0</td>\n      <td>0</td>\n    </tr>\n    <tr>\n      <th>...</th>\n      <td>...</td>\n      <td>...</td>\n      <td>...</td>\n      <td>...</td>\n      <td>...</td>\n      <td>...</td>\n      <td>...</td>\n      <td>...</td>\n      <td>...</td>\n      <td>...</td>\n      <td>...</td>\n      <td>...</td>\n      <td>...</td>\n      <td>...</td>\n      <td>...</td>\n      <td>...</td>\n      <td>...</td>\n      <td>...</td>\n    </tr>\n    <tr>\n      <th>9995</th>\n      <td>36452</td>\n      <td>0</td>\n      <td>1</td>\n      <td>1</td>\n      <td>0</td>\n      <td>0</td>\n      <td>4</td>\n      <td>2</td>\n      <td>1</td>\n      <td>1</td>\n      <td>6</td>\n      <td>1</td>\n      <td>1</td>\n      <td>1</td>\n      <td>1</td>\n      <td>0</td>\n      <td>2.0</td>\n      <td>1</td>\n    </tr>\n    <tr>\n      <th>9996</th>\n      <td>36453</td>\n      <td>1</td>\n      <td>1</td>\n      <td>1</td>\n      <td>0</td>\n      <td>0</td>\n      <td>4</td>\n      <td>4</td>\n      <td>0</td>\n      <td>1</td>\n      <td>1</td>\n      <td>1</td>\n      <td>1</td>\n      <td>1</td>\n      <td>0</td>\n      <td>0</td>\n      <td>2.0</td>\n      <td>2</td>\n    </tr>\n    <tr>\n      <th>9997</th>\n      <td>36454</td>\n      <td>0</td>\n      <td>0</td>\n      <td>1</td>\n      <td>0</td>\n      <td>1</td>\n      <td>4</td>\n      <td>4</td>\n      <td>1</td>\n      <td>1</td>\n      <td>7</td>\n      <td>1</td>\n      <td>1</td>\n      <td>0</td>\n      <td>0</td>\n      <td>0</td>\n      <td>2.0</td>\n      <td>3</td>\n    </tr>\n    <tr>\n      <th>9998</th>\n      <td>36455</td>\n      <td>0</td>\n      <td>1</td>\n      <td>0</td>\n      <td>0</td>\n      <td>0</td>\n      <td>0</td>\n      <td>4</td>\n      <td>1</td>\n      <td>1</td>\n      <td>5</td>\n      <td>1</td>\n      <td>1</td>\n      <td>0</td>\n      <td>1</td>\n      <td>0</td>\n      <td>2.0</td>\n      <td>2</td>\n    </tr>\n    <tr>\n      <th>9999</th>\n      <td>36456</td>\n      <td>0</td>\n      <td>0</td>\n      <td>1</td>\n      <td>0</td>\n      <td>1</td>\n      <td>4</td>\n      <td>1</td>\n      <td>1</td>\n      <td>1</td>\n      <td>0</td>\n      <td>1</td>\n      <td>1</td>\n      <td>0</td>\n      <td>0</td>\n      <td>1</td>\n      <td>2.0</td>\n      <td>0</td>\n    </tr>\n  </tbody>\n</table>\n<p>10000 rows × 18 columns</p>\n</div>",
      "text/plain": "      index  gender  car  reality  child_num  income_total  income_type  \\\n0     26457       1    1        0          0             0            1   \n1     26458       0    0        1          0             0            2   \n2     26459       0    0        1          0             0            4   \n3     26460       1    1        0          0             0            0   \n4     26461       0    1        1          0             0            2   \n...     ...     ...  ...      ...        ...           ...          ...   \n9995  36452       0    1        1          0             0            4   \n9996  36453       1    1        1          0             0            4   \n9997  36454       0    0        1          0             1            4   \n9998  36455       0    1        0          0             0            0   \n9999  36456       0    0        1          0             1            4   \n\n      edu_type  family_type  house_type  DAYS_BIRTH  DAYS_EMPLOYED  \\\n0            4            0           1           8              0   \n1            1            1           1           6              1   \n2            4            1           1           4              1   \n3            4            1           1           6              1   \n4            1            1           1           5              1   \n...        ...          ...         ...         ...            ...   \n9995         2            1           1           6              1   \n9996         4            0           1           1              1   \n9997         4            1           1           7              1   \n9998         4            1           1           5              1   \n9999         1            1           1           0              1   \n\n      FLAG_MOBIL  work_phone  phone  email  family_size  begin_month  \n0              1           0      1      0          2.0            3  \n1              1           0      1      0          2.0            2  \n2              1           1      1      0          2.0            2  \n3              1           1      0      0          2.0            2  \n4              1           1      0      0          2.0            0  \n...          ...         ...    ...    ...          ...          ...  \n9995           1           1      1      0          2.0            1  \n9996           1           1      0      0          2.0            2  \n9997           1           0      0      0          2.0            3  \n9998           1           0      1      0          2.0            2  \n9999           1           0      0      1          2.0            0  \n\n[10000 rows x 18 columns]"
     },
     "execution_count": 25,
     "metadata": {},
     "output_type": "execute_result"
    }
   ],
   "source": [
    "test"
   ]
  },
  {
   "cell_type": "code",
   "execution_count": 26,
   "metadata": {},
   "outputs": [
    {
     "data": {
      "text/plain": "(26457, 19)"
     },
     "execution_count": 26,
     "metadata": {},
     "output_type": "execute_result"
    }
   ],
   "source": [
    "train.shape"
   ]
  },
  {
   "cell_type": "code",
   "execution_count": 27,
   "metadata": {},
   "outputs": [
    {
     "data": {
      "text/plain": "(10000, 18)"
     },
     "execution_count": 27,
     "metadata": {},
     "output_type": "execute_result"
    }
   ],
   "source": [
    "test.shape"
   ]
  },
  {
   "cell_type": "markdown",
   "metadata": {},
   "source": [
    "# **[데이터 모델링]**"
   ]
  },
  {
   "cell_type": "code",
   "execution_count": 28,
   "metadata": {},
   "outputs": [],
   "source": [
    "train_x=train.drop('credit', axis=1)\n",
    "train_y=train[['credit']]\n",
    "test_x=test"
   ]
  },
  {
   "cell_type": "code",
   "execution_count": 29,
   "metadata": {},
   "outputs": [
    {
     "name": "stdout",
     "output_type": "stream",
     "text": [
      "(26457, 18) (26457, 1) (10000, 18)\n"
     ]
    }
   ],
   "source": [
    "print(train_x.shape, train_y.shape, test.shape)"
   ]
  },
  {
   "cell_type": "code",
   "execution_count": 30,
   "metadata": {},
   "outputs": [
    {
     "name": "stdout",
     "output_type": "stream",
     "text": [
      "Train set: \n",
      "(19842, 18)\n",
      "(19842, 1)\n",
      "===========\n",
      "Validation set: \n",
      "(6615, 18)\n",
      "(6615, 1)\n",
      "log_loss: 1.0781888566112645\n"
     ]
    }
   ],
   "source": [
    "from sklearn.ensemble import RandomForestClassifier\n",
    "from sklearn.metrics import accuracy_score, log_loss\n",
    "from sklearn.metrics import f1_score\n",
    "from tensorflow.keras.utils import to_categorical\n",
    "\n",
    "X_train, X_val, y_train, y_val = train_test_split(train_x, train_y, \n",
    "                                                    stratify=train_y, test_size=0.25,\n",
    "                                                    random_state = 10086)\n",
    "\n",
    "print(\"Train set: \")\n",
    "print(X_train.shape)\n",
    "print(y_train.shape)\n",
    "print(\"===========\")\n",
    "print(\"Validation set: \")\n",
    "print(X_val.shape)\n",
    "print(y_val.shape)\n",
    "\n",
    "\n",
    "clf=RandomForestClassifier()\n",
    "clf.fit(X_train, y_train)\n",
    "y_pred=clf.predict_proba(X_val)\n",
    "\n",
    "print(f\"log_loss: {log_loss(to_categorical(y_val['credit']), y_pred)}\")"
   ]
  },
  {
   "cell_type": "code",
   "execution_count": 31,
   "metadata": {},
   "outputs": [
    {
     "name": "stdout",
     "output_type": "stream",
     "text": [
      "FOLD 0 : logloss:1.0383284342870196\n",
      "FOLD 1 : logloss:1.0271556973834017\n",
      "FOLD 2 : logloss:1.1117301832236142\n",
      "FOLD 3 : logloss:1.0249275853325617\n",
      "FOLD 4 : logloss:1.0476131920706084\n",
      "Mean:1.0499510184594412\n"
     ]
    }
   ],
   "source": [
    "from sklearn.model_selection import KFold, StratifiedKFold\n",
    "\n",
    "def run_kfold(clf):\n",
    "    folds=StratifiedKFold(n_splits=5, shuffle=True, random_state=55)\n",
    "    outcomes=[]\n",
    "    sub=np.zeros((test_x.shape[0], 3))  \n",
    "    for n_fold, (train_index, val_index) in enumerate(folds.split(train_x, train_y)):\n",
    "        X_train, X_val = train_x.iloc[train_index], train_x.iloc[val_index]\n",
    "        y_train, y_val = train_y.iloc[train_index], train_y.iloc[val_index]\n",
    "        clf.fit(X_train, y_train)\n",
    "        \n",
    "        predictions=clf.predict_proba(X_val)\n",
    "        \n",
    "        logloss=log_loss(to_categorical(y_val['credit']), predictions)\n",
    "        outcomes.append(logloss)\n",
    "        print(f\"FOLD {n_fold} : logloss:{logloss}\")\n",
    "        \n",
    "        sub+=clf.predict_proba(test_x)\n",
    "        \n",
    "        \n",
    "    mean_outcome=np.mean(outcomes)\n",
    "    \n",
    "    print(\"Mean:{}\".format(mean_outcome))\n",
    "    return sub/folds.n_splits\n",
    "\n",
    "my_submission = run_kfold(clf)"
   ]
  },
  {
   "cell_type": "code",
   "execution_count": 32,
   "metadata": {},
   "outputs": [
    {
     "data": {
      "text/plain": "array([[0.128, 0.202, 0.67 ],\n       [0.092, 0.236, 0.672],\n       [0.056, 0.238, 0.706],\n       ...,\n       [0.06 , 0.116, 0.824],\n       [0.124, 0.376, 0.5  ],\n       [0.154, 0.368, 0.478]])"
     },
     "execution_count": 32,
     "metadata": {},
     "output_type": "execute_result"
    }
   ],
   "source": [
    "my_submission"
   ]
  },
  {
   "cell_type": "code",
   "execution_count": 33,
   "metadata": {},
   "outputs": [
    {
     "data": {
      "text/html": "<div>\n<style scoped>\n    .dataframe tbody tr th:only-of-type {\n        vertical-align: middle;\n    }\n\n    .dataframe tbody tr th {\n        vertical-align: top;\n    }\n\n    .dataframe thead th {\n        text-align: right;\n    }\n</style>\n<table border=\"1\" class=\"dataframe\">\n  <thead>\n    <tr style=\"text-align: right;\">\n      <th></th>\n      <th>index</th>\n      <th>0</th>\n      <th>1</th>\n      <th>2</th>\n    </tr>\n  </thead>\n  <tbody>\n    <tr>\n      <th>0</th>\n      <td>26457</td>\n      <td>0</td>\n      <td>0</td>\n      <td>0</td>\n    </tr>\n    <tr>\n      <th>1</th>\n      <td>26458</td>\n      <td>0</td>\n      <td>0</td>\n      <td>0</td>\n    </tr>\n    <tr>\n      <th>2</th>\n      <td>26459</td>\n      <td>0</td>\n      <td>0</td>\n      <td>0</td>\n    </tr>\n    <tr>\n      <th>3</th>\n      <td>26460</td>\n      <td>0</td>\n      <td>0</td>\n      <td>0</td>\n    </tr>\n    <tr>\n      <th>4</th>\n      <td>26461</td>\n      <td>0</td>\n      <td>0</td>\n      <td>0</td>\n    </tr>\n    <tr>\n      <th>...</th>\n      <td>...</td>\n      <td>...</td>\n      <td>...</td>\n      <td>...</td>\n    </tr>\n    <tr>\n      <th>9995</th>\n      <td>36452</td>\n      <td>0</td>\n      <td>0</td>\n      <td>0</td>\n    </tr>\n    <tr>\n      <th>9996</th>\n      <td>36453</td>\n      <td>0</td>\n      <td>0</td>\n      <td>0</td>\n    </tr>\n    <tr>\n      <th>9997</th>\n      <td>36454</td>\n      <td>0</td>\n      <td>0</td>\n      <td>0</td>\n    </tr>\n    <tr>\n      <th>9998</th>\n      <td>36455</td>\n      <td>0</td>\n      <td>0</td>\n      <td>0</td>\n    </tr>\n    <tr>\n      <th>9999</th>\n      <td>36456</td>\n      <td>0</td>\n      <td>0</td>\n      <td>0</td>\n    </tr>\n  </tbody>\n</table>\n<p>10000 rows × 4 columns</p>\n</div>",
      "text/plain": "      index  0  1  2\n0     26457  0  0  0\n1     26458  0  0  0\n2     26459  0  0  0\n3     26460  0  0  0\n4     26461  0  0  0\n...     ... .. .. ..\n9995  36452  0  0  0\n9996  36453  0  0  0\n9997  36454  0  0  0\n9998  36455  0  0  0\n9999  36456  0  0  0\n\n[10000 rows x 4 columns]"
     },
     "execution_count": 33,
     "metadata": {},
     "output_type": "execute_result"
    }
   ],
   "source": [
    "submission"
   ]
  },
  {
   "cell_type": "code",
   "execution_count": 34,
   "metadata": {},
   "outputs": [],
   "source": [
    "submission.loc[:,1:]=my_submission"
   ]
  },
  {
   "cell_type": "code",
   "execution_count": 35,
   "metadata": {},
   "outputs": [
    {
     "data": {
      "text/html": "<div>\n<style scoped>\n    .dataframe tbody tr th:only-of-type {\n        vertical-align: middle;\n    }\n\n    .dataframe tbody tr th {\n        vertical-align: top;\n    }\n\n    .dataframe thead th {\n        text-align: right;\n    }\n</style>\n<table border=\"1\" class=\"dataframe\">\n  <thead>\n    <tr style=\"text-align: right;\">\n      <th></th>\n      <th>index</th>\n      <th>0</th>\n      <th>1</th>\n      <th>2</th>\n    </tr>\n  </thead>\n  <tbody>\n    <tr>\n      <th>0</th>\n      <td>26457</td>\n      <td>0.128</td>\n      <td>0.202</td>\n      <td>0.670</td>\n    </tr>\n    <tr>\n      <th>1</th>\n      <td>26458</td>\n      <td>0.092</td>\n      <td>0.236</td>\n      <td>0.672</td>\n    </tr>\n    <tr>\n      <th>2</th>\n      <td>26459</td>\n      <td>0.056</td>\n      <td>0.238</td>\n      <td>0.706</td>\n    </tr>\n    <tr>\n      <th>3</th>\n      <td>26460</td>\n      <td>0.124</td>\n      <td>0.196</td>\n      <td>0.680</td>\n    </tr>\n    <tr>\n      <th>4</th>\n      <td>26461</td>\n      <td>0.114</td>\n      <td>0.384</td>\n      <td>0.502</td>\n    </tr>\n    <tr>\n      <th>...</th>\n      <td>...</td>\n      <td>...</td>\n      <td>...</td>\n      <td>...</td>\n    </tr>\n    <tr>\n      <th>9995</th>\n      <td>36452</td>\n      <td>0.152</td>\n      <td>0.284</td>\n      <td>0.564</td>\n    </tr>\n    <tr>\n      <th>9996</th>\n      <td>36453</td>\n      <td>0.146</td>\n      <td>0.312</td>\n      <td>0.542</td>\n    </tr>\n    <tr>\n      <th>9997</th>\n      <td>36454</td>\n      <td>0.060</td>\n      <td>0.116</td>\n      <td>0.824</td>\n    </tr>\n    <tr>\n      <th>9998</th>\n      <td>36455</td>\n      <td>0.124</td>\n      <td>0.376</td>\n      <td>0.500</td>\n    </tr>\n    <tr>\n      <th>9999</th>\n      <td>36456</td>\n      <td>0.154</td>\n      <td>0.368</td>\n      <td>0.478</td>\n    </tr>\n  </tbody>\n</table>\n<p>10000 rows × 4 columns</p>\n</div>",
      "text/plain": "      index      0      1      2\n0     26457  0.128  0.202  0.670\n1     26458  0.092  0.236  0.672\n2     26459  0.056  0.238  0.706\n3     26460  0.124  0.196  0.680\n4     26461  0.114  0.384  0.502\n...     ...    ...    ...    ...\n9995  36452  0.152  0.284  0.564\n9996  36453  0.146  0.312  0.542\n9997  36454  0.060  0.116  0.824\n9998  36455  0.124  0.376  0.500\n9999  36456  0.154  0.368  0.478\n\n[10000 rows x 4 columns]"
     },
     "execution_count": 35,
     "metadata": {},
     "output_type": "execute_result"
    }
   ],
   "source": [
    "submission"
   ]
  },
  {
   "cell_type": "code",
   "execution_count": 224,
   "metadata": {},
   "outputs": [],
   "source": [
    "# os.chdir('../baseline')"
   ]
  },
  {
   "cell_type": "code",
   "execution_count": 36,
   "metadata": {},
   "outputs": [],
   "source": [
    "# submission.to_csv('baseline_submission.csv', index=False)"
   ]
  },
  {
   "cell_type": "code",
   "execution_count": null,
   "metadata": {},
   "outputs": [],
   "source": []
  }
 ],
 "metadata": {
  "kernelspec": {
   "display_name": "Python 3 (ipykernel)",
   "language": "python",
   "name": "python3"
  },
  "language_info": {
   "codemirror_mode": {
    "name": "ipython",
    "version": 3
   },
   "file_extension": ".py",
   "mimetype": "text/x-python",
   "name": "python",
   "nbconvert_exporter": "python",
   "pygments_lexer": "ipython3",
   "version": "3.8.12"
  }
 },
 "nbformat": 4,
 "nbformat_minor": 4
}